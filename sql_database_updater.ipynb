{
 "cells": [
  {
   "cell_type": "code",
   "execution_count": 1,
   "id": "59dda3f7-9034-4afe-8bcd-4bd6834c81e8",
   "metadata": {},
   "outputs": [],
   "source": [
    "import sqlite3\n",
    "import pandas as pd\n",
    "import datetime\n",
    "# Importing awake data gathering script\n",
    "from gather_awake_data import main\n",
    "# Importing asleep data gathering script\n",
    "import gather_asleep_data"
   ]
  },
  {
   "cell_type": "code",
   "execution_count": 2,
   "id": "bfa04210-43ea-440c-bbc7-a36ee5e2fb55",
   "metadata": {},
   "outputs": [
    {
     "data": {
      "text/plain": [
       "<sqlite3.Cursor at 0x134313bc0>"
      ]
     },
     "execution_count": 2,
     "metadata": {},
     "output_type": "execute_result"
    }
   ],
   "source": [
    "# Initialize SQLite connection and cursor\n",
    "conn = sqlite3.connect('database.db')\n",
    "c = conn.cursor()\n",
    "\n",
    "# Create a table if it doesn't exist\n",
    "c.execute('''CREATE TABLE IF NOT EXISTS data (\n",
    "                Date TEXT PRIMARY KEY,\n",
    "                SleepQuality INTEGER,\n",
    "                MealQuality INTEGER,\n",
    "                EnergyLevel INTEGER,\n",
    "                WeatherQual INTEGER,\n",
    "                Socialization INTEGER,\n",
    "                JobHours INTEGER,\n",
    "                WorkProd INTEGER,\n",
    "                ChoreProd INTEGER,\n",
    "                WorkOut INTEGER,\n",
    "                Weight INTEGER,\n",
    "                GoOutside INTEGER,\n",
    "                Shower INTEGER,\n",
    "                Caffeine INTEGER,\n",
    "                PartnerHours INTEGER,\n",
    "                GamingHours INTEGER,\n",
    "                TVHours INTEGER,\n",
    "                AppHours INTEGER,\n",
    "                StressLevel INTEGER,\n",
    "                DayRating INTEGER,\n",
    "                EODEmotion TEXT,\n",
    "                DayOfWeek TEXT,\n",
    "                AwakeCount INTEGER,\n",
    "                AwakeDuration INTEGER,\n",
    "                AwakeningsCount INTEGER,\n",
    "                Duration INTEGER,\n",
    "                Efficiency INTEGER,\n",
    "                EndTime TEXT,\n",
    "                IsMainSleep INTEGER,\n",
    "                LogId TEXT,\n",
    "                MinutesAfterWakeup INTEGER,\n",
    "                MinutesAsleep INTEGER,\n",
    "                MinutesAwake INTEGER,\n",
    "                MinutesToFallAsleep INTEGER,\n",
    "                RestlessCount INTEGER,\n",
    "                RestlessDuration INTEGER,\n",
    "                StartTime TEXT,\n",
    "                TimeInBed INTEGER\n",
    "            )''')"
   ]
  },
  {
   "cell_type": "code",
   "execution_count": 3,
   "id": "0c49aa1f-9a5a-4b48-be9d-535e2552aa9e",
   "metadata": {},
   "outputs": [],
   "source": [
    "# Importing awake data and preprocessing\n",
    "raw_awake_df = main()\n",
    "\n",
    "# Creating a copy to avoid overusing the API\n",
    "awake_df = raw_awake_df.copy()\n",
    "\n",
    "# Splitting the 'Date' column into 'DayOfWeek' and 'Date' columns\n",
    "awake_df[['DayOfWeek', 'Date']] = awake_df['Date'].str.split(', ', expand=True)\n",
    "\n",
    "# Convert 'Date' column to datetime format with the specified format\n",
    "awake_df['Date'] = pd.to_datetime(awake_df['Date'], format='%m/%d/%y')\n",
    "\n",
    "# Read the most recent date from the SQLite database\n",
    "c.execute(\"SELECT MAX(Date) FROM data\")\n",
    "latest_date = c.fetchone()[0]\n",
    "if latest_date is None:\n",
    "    latest_date = '2024-01-01'\n",
    "\n",
    "# Selecting new awake data\n",
    "new_awake_df = awake_df[awake_df['Date'] > latest_date]"
   ]
  },
  {
   "cell_type": "code",
   "execution_count": 4,
   "id": "c4758175-e0e1-4754-be8a-ad0c95b926d0",
   "metadata": {
    "scrolled": true
   },
   "outputs": [
    {
     "name": "stderr",
     "output_type": "stream",
     "text": [
      "[20/Apr/2024:20:26:42] ENGINE Listening for SIGTERM.\n",
      "[20/Apr/2024:20:26:42] ENGINE Listening for SIGHUP.\n",
      "[20/Apr/2024:20:26:42] ENGINE Listening for SIGUSR1.\n",
      "[20/Apr/2024:20:26:42] ENGINE Bus STARTING\n",
      "CherryPy Checker:\n",
      "The Application mounted at '' has an empty config.\n",
      "\n",
      "[20/Apr/2024:20:26:42] ENGINE Started monitor thread 'Autoreloader'.\n",
      "[20/Apr/2024:20:26:42] ENGINE Serving on http://127.0.0.1:8080\n",
      "[20/Apr/2024:20:26:42] ENGINE Bus STARTED\n"
     ]
    },
    {
     "name": "stdout",
     "output_type": "stream",
     "text": [
      "127.0.0.1 - - [20/Apr/2024:20:26:43] \"GET /?code=26361440bee14451065e5a696eeb6bce17ca2603&state=dQckbhtTLOtX7KDsEZzA1dDsJHIE8S HTTP/1.1\" 200 114 \"\" \"Mozilla/5.0 (Macintosh; Intel Mac OS X 10_15_7) AppleWebKit/537.36 (KHTML, like Gecko) Chrome/123.0.0.0 Safari/537.36\"\n"
     ]
    },
    {
     "name": "stderr",
     "output_type": "stream",
     "text": [
      "[20/Apr/2024:20:26:44] ENGINE Bus STOPPING\n",
      "[20/Apr/2024:20:26:44] ENGINE HTTP Server cherrypy._cpwsgi_server.CPWSGIServer(('127.0.0.1', 8080)) shut down\n",
      "[20/Apr/2024:20:26:44] ENGINE Stopped thread 'Autoreloader'.\n",
      "[20/Apr/2024:20:26:44] ENGINE Bus STOPPED\n",
      "[20/Apr/2024:20:26:44] ENGINE Bus EXITING\n",
      "[20/Apr/2024:20:26:44] ENGINE Bus EXITED\n",
      "[20/Apr/2024:20:26:44] ENGINE Waiting for child threads to terminate...\n"
     ]
    },
    {
     "data": {
      "text/html": [
       "<div>\n",
       "<style scoped>\n",
       "    .dataframe tbody tr th:only-of-type {\n",
       "        vertical-align: middle;\n",
       "    }\n",
       "\n",
       "    .dataframe tbody tr th {\n",
       "        vertical-align: top;\n",
       "    }\n",
       "\n",
       "    .dataframe thead th {\n",
       "        text-align: right;\n",
       "    }\n",
       "</style>\n",
       "<table border=\"1\" class=\"dataframe\">\n",
       "  <thead>\n",
       "    <tr style=\"text-align: right;\">\n",
       "      <th></th>\n",
       "    </tr>\n",
       "  </thead>\n",
       "  <tbody>\n",
       "  </tbody>\n",
       "</table>\n",
       "</div>"
      ],
      "text/plain": [
       "Empty DataFrame\n",
       "Columns: []\n",
       "Index: []"
      ]
     },
     "execution_count": 4,
     "metadata": {},
     "output_type": "execute_result"
    }
   ],
   "source": [
    "# Fetching and formatting sleep data\n",
    "start_date = (pd.to_datetime(latest_date) + datetime.timedelta(days=1)).strftime('%Y-%m-%d')\n",
    "end_date = datetime.datetime.now().strftime('%Y-%m-%d')\n",
    "\n",
    "# Define Fitbit credentials\n",
    "client_id = \"\"\n",
    "client_secret = \"\"\n",
    "redirect_uri = '/'\n",
    "\n",
    "# Instantiate OAuth server\n",
    "oauth_server = gather_asleep_data.OAuth2Server(client_id, client_secret, redirect_uri)\n",
    "oauth_server.browser_authorize()\n",
    "\n",
    "# Access token and refresh token are now available through oauth_server.fitbit.client.session.token\n",
    "access_token = oauth_server.fitbit.client.session.token['access_token']\n",
    "refresh_token = oauth_server.fitbit.client.session.token['refresh_token']\n",
    "\n",
    "# Create an authorized Fitbit API client\n",
    "fitbit_client = gather_asleep_data.FitbitAPI(client_id, client_secret, access_token, refresh_token, redirect_uri).get_authorized_client()\n",
    "\n",
    "# Fetch and format sleep data\n",
    "raw_sleep_df = gather_asleep_data.fetch_and_format_sleep_data(start_date, end_date, fitbit_client)\n",
    "raw_sleep_df.head()"
   ]
  },
  {
   "cell_type": "code",
   "execution_count": null,
   "id": "e02fb63c-5429-4989-ab48-d1c0d6b3b5c6",
   "metadata": {},
   "outputs": [],
   "source": [
    "# Creating a copy to avoid overusing the API\n",
    "new_asleep_df = raw_sleep_df.copy()\n",
    "new_asleep_df.rename(columns={'date': 'Date'}, inplace=True)\n",
    "new_asleep_df['Date'] = pd.to_datetime(new_asleep_df['Date'])"
   ]
  },
  {
   "cell_type": "code",
   "execution_count": null,
   "id": "8164b369-5261-4cad-af41-224188dd014a",
   "metadata": {},
   "outputs": [],
   "source": [
    "# Merge awake and asleep data\n",
    "merged_df = pd.merge(new_awake_df, new_sleep_df, on='Date', how='outer')\n",
    "\n",
    "# Merge with existing data from the database, keeping only new rows\n",
    "c.execute(\"SELECT * FROM data\")\n",
    "database_df = pd.DataFrame(c.fetchall(), columns=['Date', 'DayOfWeek'])  # Include columns you need here\n",
    "new_data = pd.concat([database_df, merged_df]).drop_duplicates(subset=['Date'], keep='last')\n",
    "\n",
    "# Drop empty rows\n",
    "merged_df = merged_df.dropna(how='all')\n",
    "\n",
    "# Save the updated DataFrame to SQLite database\n",
    "new_data.to_sql('data', conn, if_exists='replace', index=False)\n",
    "\n",
    "# Commit changes and close the connection\n",
    "conn.commit()\n",
    "conn.close()"
   ]
  }
 ],
 "metadata": {
  "kernelspec": {
   "display_name": "Python 3 (ipykernel)",
   "language": "python",
   "name": "python3"
  },
  "language_info": {
   "codemirror_mode": {
    "name": "ipython",
    "version": 3
   },
   "file_extension": ".py",
   "mimetype": "text/x-python",
   "name": "python",
   "nbconvert_exporter": "python",
   "pygments_lexer": "ipython3",
   "version": "3.11.5"
  }
 },
 "nbformat": 4,
 "nbformat_minor": 5
}
